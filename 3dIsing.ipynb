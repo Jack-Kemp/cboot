{
 "cells": [
  {
   "cell_type": "code",
   "execution_count": 1,
   "metadata": {
    "collapsed": true
   },
   "outputs": [],
   "source": [
    "# The purpose of this tutorial is to let you see around basic functions in the module.\n",
    "from subprocess import Popen, PIPE # To execute sdpb\n",
    "from sage.cboot.scalar import context_for_scalar"
   ]
  },
  {
   "cell_type": "code",
   "execution_count": 2,
   "metadata": {
    "collapsed": false
   },
   "outputs": [],
   "source": [
    "# Define the context for the bootstrap problems.\n",
    "# Lambda controls the maximal number of derivatives acting on conformal blocks.\n",
    "# epsilon is (d-2)/2, so 0 for 2d, 0.5 for 3d, and 1 for 4d.\n",
    "# nMax represents the order of expansion in the Hogervorst-Osborn-Rychkov series\n",
    "context=context_for_scalar(Lambda=15,epsilon=0.5,nMax=250)"
   ]
  },
  {
   "cell_type": "code",
   "execution_count": 7,
   "metadata": {
    "collapsed": false
   },
   "outputs": [],
   "source": [
    "def fixed_spin_contributuion(delta, spin,shift,nu_max=12):\n",
    "    # rational_approx_data specifies a data to approximate a conformal block of given spin.\n",
    "    # nu_max is the cutoff for the included pole.\n",
    "    # The last two argumensts are to be used for 4pt functions with non-identical dimensions\n",
    "    q=context.rational_approx_data(nu_max,spin,0,0)\n",
    "    \n",
    "    # Compute the approximation.\n",
    "    # Returned instance is \"prefactor_numerator\" instance, which stores\n",
    "    # the positive prefactor (\"damped_rational\") and the numerator polynomial (numpy ndarray)\n",
    "    approx=q.approx()\n",
    "    \n",
    "    # Shift by the unitarity bound / hypothetical gap\n",
    "    # The method \"shift\" of the prefactor_numerator shift both the prefactor and the body.\n",
    "    approx=approx.shift(shift)\n",
    "    \n",
    "    # Apply the matrix which represents v^{\\Delta _ \\phi}-multplication and anti-symmetrization\n",
    "    # Attributes \"matrix\" is the numerator polynomial\n",
    "    F_body=context.make_F_minus_matrix(delta).dot(approx.matrix)\n",
    "    \n",
    "    # Reconstruct with convolved conformal block numerator.\n",
    "    return context.prefactor_numerator(approx.prefactor,F_body.reshape((1,1,len(F_body))), )\n",
    "\n",
    "def spin_vs_shift(lmax,modify_list):\n",
    "    # Returns a dictionary giving the amount of shift for the conformal block.\n",
    "    # Default amount of shift should be the unitarity bound.\n",
    "    ubs=dict([(x,x+2*context.epsilon) for x in range(0,lmax+1,2)])    \n",
    "    # Modify unitarity bounds to hypothetical gaps.\n",
    "    updates=dict([(x[0],context(x[1])) for x in modify_list.items()])\n",
    "    ubs.update(updates)\n",
    "    return ubs\n",
    "\n",
    "def ising_singlet_bound_SDP(delta,modify_list,lmax=30,nu_max=12):\n",
    "    delta=context(delta) # convert delta into a multi-precision number.\n",
    "    shifts=spin_vs_shift(lmax,modify_list)\n",
    "    polynomial_Vector_Matrices=\\\n",
    "    [fixed_spin_contributuion(delta,x,shifts[x],nu_max=nu_max) for x in shifts]\n",
    "    \n",
    "    # context.gBlock returns the conformal block derivative table \n",
    "    # as the 1d numpy array.\n",
    "    normalization=context.make_F_minus_matrix(delta).dot(context.gBlock(0,0,0,0))\n",
    "    obj=normalization*0\n",
    "    return context.SDP(normalization,obj,polynomial_Vector_Matrices)"
   ]
  },
  {
   "cell_type": "code",
   "execution_count": 8,
   "metadata": {
    "collapsed": false
   },
   "outputs": [],
   "source": [
    "m=ising_singlet_bound_SDP(0.518,{0:1.5})"
   ]
  },
  {
   "cell_type": "code",
   "execution_count": null,
   "metadata": {
    "collapsed": true
   },
   "outputs": [],
   "source": []
  }
 ],
 "metadata": {
  "kernelspec": {
   "display_name": "SageMath 7.0",
   "language": "",
   "name": "sagemath"
  },
  "language_info": {
   "codemirror_mode": {
    "name": "ipython",
    "version": 2
   },
   "file_extension": ".py",
   "mimetype": "text/x-python",
   "name": "python",
   "nbconvert_exporter": "python",
   "pygments_lexer": "ipython2",
   "version": "2.7.10"
  }
 },
 "nbformat": 4,
 "nbformat_minor": 0
}
