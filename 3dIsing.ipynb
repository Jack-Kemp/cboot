{
 "cells": [
  {
   "cell_type": "code",
   "execution_count": 6,
   "metadata": {
    "collapsed": true
   },
   "outputs": [],
   "source": [
    "import subprocess\n",
    "from sage.cboot.scalar import context_for_scalar"
   ]
  },
  {
   "cell_type": "code",
   "execution_count": 7,
   "metadata": {
    "collapsed": false
   },
   "outputs": [],
   "source": [
    "# Define the context variable for the bootstrap problems.\n",
    "# Lambda controls the maximal number of derivatives acting on conformal blocks.\n",
    "# epsilon is (d-2)/2, so 0 for 2d, 0.5 for 3d, and 1 for 4d.\n",
    "# nMax is the expansion parameter for scala \n",
    "context=context_for_scalar(Lambda=15,epsilon=0.5,nMax=250)"
   ]
  },
  {
   "cell_type": "code",
   "execution_count": 8,
   "metadata": {
    "collapsed": false
   },
   "outputs": [],
   "source": [
    "def fixed_spin_contributuion(delta, spin,shift,nu_max=12):\n",
    "    # defines a data to approxmate a conformal block of given spin. nu_max is the cutoff for the included pole.\n",
    "    # The last two parameters are to be used for 4pt functions with non-identical dimensions\n",
    "    q=context.rational_approx_data(nu_max,spin,0,0)\n",
    "    \n",
    "    # Compute the approximation\n",
    "    approx=q.approx()\n",
    "    \n",
    "    # Shift by the unitarity bound / hypothetical gap\n",
    "    approx=approx.shift(shift)\n",
    "    \n",
    "    # Apply the matrix which represents v^{\\Delta _ \\phi}-multplication and anti-symmetrization\n",
    "    F_body=context.make_F_minus_matrix(delta).dot(approx.matrix)\n",
    "    return context.prefactor_numerator(approx.prefactor,F_body.reshape((1,1,len(F_body))), )\n",
    "\n",
    "def unitarity_bounds(lmax,modify_list):\n",
    "    ubs=dict([(x,x+2*context.epsilon) for x in range(0,lmax+1,2)])\n",
    "    updates=dict([(x[0],context(x[1])) for x in modify_list.items()])\n",
    "    ubs.update(updates)\n",
    "    return ubs\n",
    "\n",
    "def ising_singlet_bound_SDP(delta,modify_list,lmax=30,nu_max=12):\n",
    "    delta=context(delta)\n",
    "    ubs=unitarity_bounds(lmax,modify_list)\n",
    "    polynomial_Vector_Matrices=[fixed_spin_contributuion(delta,x,ubs[x],nu_max=nu_max) for x in ubs]\n",
    "    normalization=context.make_F_minus_matrix(delta).dot(context.identity_vector())\n",
    "    obj=normalization*0\n",
    "    return context.SDP(normalization,obj,polynomial_Vector_Matrices)"
   ]
  },
  {
   "cell_type": "code",
   "execution_count": 9,
   "metadata": {
    "collapsed": false
   },
   "outputs": [],
   "source": [
    "m=ising_singlet_bound_SDP(0.518,{0:1.2})"
   ]
  },
  {
   "cell_type": "code",
   "execution_count": 11,
   "metadata": {
    "collapsed": false
   },
   "outputs": [
    {
     "ename": "OSError",
     "evalue": "[Errno 2] No such file or directory",
     "output_type": "error",
     "traceback": [
      "\u001b[0;31m---------------------------------------------------------------------------\u001b[0m",
      "\u001b[0;31mOSError\u001b[0m                                   Traceback (most recent call last)",
      "\u001b[0;32m<ipython-input-11-bf057ba1fc74>\u001b[0m in \u001b[0;36m<module>\u001b[0;34m()\u001b[0m\n\u001b[0;32m----> 1\u001b[0;31m \u001b[0msubprocess\u001b[0m\u001b[0;34m.\u001b[0m\u001b[0mPopen\u001b[0m\u001b[0;34m(\u001b[0m\u001b[0;34m[\u001b[0m\u001b[0;34m\"sdpb\"\u001b[0m\u001b[0;34m,\u001b[0m\u001b[0;34m\"-s\"\u001b[0m\u001b[0;34m,\u001b[0m\u001b[0;34m\"test.xml\"\u001b[0m\u001b[0;34m,\u001b[0m\u001b[0;34m\"--findPrimalFeasible\"\u001b[0m\u001b[0;34m,\u001b[0m\u001b[0;34m\"--findDualFeasible\"\u001b[0m\u001b[0;34m]\u001b[0m\u001b[0;34m,\u001b[0m                 \u001b[0mstderr\u001b[0m\u001b[0;34m=\u001b[0m\u001b[0msubprocess\u001b[0m\u001b[0;34m.\u001b[0m\u001b[0mPIPE\u001b[0m\u001b[0;34m,\u001b[0m\u001b[0mstdout\u001b[0m\u001b[0;34m=\u001b[0m\u001b[0msubprocess\u001b[0m\u001b[0;34m.\u001b[0m\u001b[0mPIPE\u001b[0m\u001b[0;34m)\u001b[0m\u001b[0;34m.\u001b[0m\u001b[0mcommunicate\u001b[0m\u001b[0;34m(\u001b[0m\u001b[0;34m)\u001b[0m\u001b[0;34m\u001b[0m\u001b[0m\n\u001b[0m",
      "\u001b[0;32m/Users/tomoki/sources/sage-7.0/local/lib/python/subprocess.pyc\u001b[0m in \u001b[0;36m__init__\u001b[0;34m(self, args, bufsize, executable, stdin, stdout, stderr, preexec_fn, close_fds, shell, cwd, env, universal_newlines, startupinfo, creationflags)\u001b[0m\n\u001b[1;32m    708\u001b[0m                                 \u001b[0mp2cread\u001b[0m\u001b[0;34m,\u001b[0m \u001b[0mp2cwrite\u001b[0m\u001b[0;34m,\u001b[0m\u001b[0;34m\u001b[0m\u001b[0m\n\u001b[1;32m    709\u001b[0m                                 \u001b[0mc2pread\u001b[0m\u001b[0;34m,\u001b[0m \u001b[0mc2pwrite\u001b[0m\u001b[0;34m,\u001b[0m\u001b[0;34m\u001b[0m\u001b[0m\n\u001b[0;32m--> 710\u001b[0;31m                                 errread, errwrite)\n\u001b[0m\u001b[1;32m    711\u001b[0m         \u001b[0;32mexcept\u001b[0m \u001b[0mException\u001b[0m\u001b[0;34m:\u001b[0m\u001b[0;34m\u001b[0m\u001b[0m\n\u001b[1;32m    712\u001b[0m             \u001b[0;31m# Preserve original exception in case os.close raises.\u001b[0m\u001b[0;34m\u001b[0m\u001b[0;34m\u001b[0m\u001b[0m\n",
      "\u001b[0;32m/Users/tomoki/sources/sage-7.0/local/lib/python/subprocess.pyc\u001b[0m in \u001b[0;36m_execute_child\u001b[0;34m(self, args, executable, preexec_fn, close_fds, cwd, env, universal_newlines, startupinfo, creationflags, shell, to_close, p2cread, p2cwrite, c2pread, c2pwrite, errread, errwrite)\u001b[0m\n\u001b[1;32m   1333\u001b[0m                         \u001b[0;32mraise\u001b[0m\u001b[0;34m\u001b[0m\u001b[0m\n\u001b[1;32m   1334\u001b[0m                 \u001b[0mchild_exception\u001b[0m \u001b[0;34m=\u001b[0m \u001b[0mpickle\u001b[0m\u001b[0;34m.\u001b[0m\u001b[0mloads\u001b[0m\u001b[0;34m(\u001b[0m\u001b[0mdata\u001b[0m\u001b[0;34m)\u001b[0m\u001b[0;34m\u001b[0m\u001b[0m\n\u001b[0;32m-> 1335\u001b[0;31m                 \u001b[0;32mraise\u001b[0m \u001b[0mchild_exception\u001b[0m\u001b[0;34m\u001b[0m\u001b[0m\n\u001b[0m\u001b[1;32m   1336\u001b[0m \u001b[0;34m\u001b[0m\u001b[0m\n\u001b[1;32m   1337\u001b[0m \u001b[0;34m\u001b[0m\u001b[0m\n",
      "\u001b[0;31mOSError\u001b[0m: [Errno 2] No such file or directory"
     ]
    }
   ],
   "source": [
    "subprocess.Popen([\"sdpb\",\"-s\",\"test.xml\",\"--findPrimalFeasible\",\"--findDualFeasible\"],\\\n",
    "                 stderr=subprocess.PIPE,stdout=subprocess.PIPE).communicate()"
   ]
  },
  {
   "cell_type": "code",
   "execution_count": null,
   "metadata": {
    "collapsed": true
   },
   "outputs": [],
   "source": []
  }
 ],
 "metadata": {
  "kernelspec": {
   "display_name": "SageMath 7.0",
   "language": "",
   "name": "sagemath"
  },
  "language_info": {
   "codemirror_mode": {
    "name": "ipython",
    "version": 2
   },
   "file_extension": ".py",
   "mimetype": "text/x-python",
   "name": "python",
   "nbconvert_exporter": "python",
   "pygments_lexer": "ipython2",
   "version": "2.7.10"
  }
 },
 "nbformat": 4,
 "nbformat_minor": 0
}
