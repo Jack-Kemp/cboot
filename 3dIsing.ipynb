{
 "cells": [
  {
   "cell_type": "code",
   "execution_count": 1,
   "metadata": {
    "collapsed": true
   },
   "outputs": [],
   "source": [
    "# The purpose of this tutorial is to let you see around basic functions in the module.\n",
    "from subprocess import Popen, PIPE # To execute sdpb\n",
    "from sage.cboot.scalar import context_for_scalar"
   ]
  },
  {
   "cell_type": "code",
   "execution_count": 2,
   "metadata": {
    "collapsed": false
   },
   "outputs": [],
   "source": [
    "# Define the context for the bootstrap problems.\n",
    "# Lambda controls the maximal number of derivatives acting on conformal blocks.\n",
    "# epsilon is (d-2)/2, so 0 for 2d, 0.5 for 3d, and 1 for 4d.\n",
    "# nMax represents the order of expansion in the Hogervorst-Osborn-Rychkov series\n",
    "context=context_for_scalar(Lambda=15,epsilon=0.5,nMax=250)"
   ]
  },
  {
   "cell_type": "code",
   "execution_count": 7,
   "metadata": {
    "collapsed": false
   },
   "outputs": [],
   "source": [
    "def fixed_spin_contributuion(delta, spin,shift,nu_max=12):\n",
    "    # rational_approx_data specifies a data to approximate a conformal block of given spin.\n",
    "    # nu_max is the cutoff for the included pole.\n",
    "    # The last two argumensts are to be used for 4pt functions with non-identical dimensions\n",
    "    q=context.rational_approx_data(nu_max,spin,0,0)\n",
    "    \n",
    "    # Compute the approximation.\n",
    "    # Returned instance is \"prefactor_numerator\" instance, which stores\n",
    "    # the positive prefactor (\"damped_rational\") and the numerator polynomial (numpy ndarray)\n",
    "    approx=q.approx()\n",
    "    \n",
    "    # Shift by the unitarity bound / hypothetical gap\n",
    "    # The method \"shift\" of the prefactor_numerator shift both the prefactor and the body.\n",
    "    approx=approx.shift(shift)\n",
    "    \n",
    "    # Apply the matrix which represents v^{\\Delta _ \\phi}-multplication and anti-symmetrization\n",
    "    # Attributes \"matrix\" is the numerator polynomial\n",
    "    F_body=context.make_F_minus_matrix(delta).dot(approx.matrix)\n",
    "    \n",
    "    # Reconstruct with convolved conformal block numerator.\n",
    "    return context.prefactor_numerator(approx.prefactor,F_body.reshape((1,1,len(F_body))), )\n",
    "\n",
    "def spin_vs_shift(lmax,modify_list):\n",
    "    # Returns a dictionary giving the amount of shift for the conformal block.\n",
    "    # Default amount of shift should be the unitarity bound.\n",
    "    ubs=dict([(x,x+2*context.epsilon) for x in range(0,lmax+1,2)])    \n",
    "    # Modify unitarity bounds to hypothetical gaps.\n",
    "    updates=dict([(x[0],context(x[1])) for x in modify_list.items()])\n",
    "    ubs.update(updates)\n",
    "    return ubs\n",
    "\n",
    "def ising_singlet_bound_SDP(delta,modify_list,lmax=30,nu_max=12):\n",
    "    delta=context(delta) # convert delta into a multi-precision number.\n",
    "    shifts=spin_vs_shift(lmax,modify_list)\n",
    "    polynomial_Vector_Matrices=\\\n",
    "    [fixed_spin_contributuion(delta,x,shifts[x],nu_max=nu_max) for x in shifts]\n",
    "    \n",
    "    # context.gBlock returns the conformal block derivative table \n",
    "    # as the 1d numpy array.\n",
    "    normalization=context.make_F_minus_matrix(delta).dot(context.gBlock(0,0,0,0))\n",
    "    obj=normalization*0\n",
    "    return context.SDP(normalization,obj,polynomial_Vector_Matrices)"
   ]
  },
  {
   "cell_type": "code",
   "execution_count": 8,
   "metadata": {
    "collapsed": false
   },
   "outputs": [],
   "source": [
    "m=ising_singlet_bound_SDP(0.518,{0:1.5})"
   ]
  },
  {
   "cell_type": "code",
   "execution_count": 10,
   "metadata": {
    "collapsed": false
   },
   "outputs": [
    {
     "ename": "OSError",
     "evalue": "[Errno 2] No such file or directory",
     "output_type": "error",
     "traceback": [
      "\u001b[0;31m---------------------------------------------------------------------------\u001b[0m",
      "\u001b[0;31mOSError\u001b[0m                                   Traceback (most recent call last)",
      "\u001b[0;32m<ipython-input-10-3392d6b75479>\u001b[0m in \u001b[0;36m<module>\u001b[0;34m()\u001b[0m\n\u001b[0;32m----> 1\u001b[0;31m \u001b[0mPopen\u001b[0m\u001b[0;34m(\u001b[0m\u001b[0;34m[\u001b[0m\u001b[0;34m\"sdpb\"\u001b[0m\u001b[0;34m,\u001b[0m\u001b[0;34m\"-s\"\u001b[0m\u001b[0;34m,\u001b[0m\u001b[0;34m\"test.xml\"\u001b[0m\u001b[0;34m,\u001b[0m\u001b[0;34m\"--findPrimalFeasible\"\u001b[0m\u001b[0;34m,\u001b[0m       \u001b[0;34m\"--findDualFeasible\"\u001b[0m\u001b[0;34m,\u001b[0m\u001b[0;34m\"--noFinalCheckpoint\"\u001b[0m\u001b[0;34m]\u001b[0m\u001b[0;34m,\u001b[0m                 \u001b[0mstderr\u001b[0m\u001b[0;34m=\u001b[0m\u001b[0mPIPE\u001b[0m\u001b[0;34m,\u001b[0m\u001b[0mstdout\u001b[0m\u001b[0;34m=\u001b[0m\u001b[0mPIPE\u001b[0m\u001b[0;34m)\u001b[0m\u001b[0;34m.\u001b[0m\u001b[0mcommunicate\u001b[0m\u001b[0;34m(\u001b[0m\u001b[0;34m)\u001b[0m\u001b[0;34m\u001b[0m\u001b[0m\n\u001b[0m",
      "\u001b[0;32m/Users/tomoki/sources/sage-7.0/local/lib/python/subprocess.pyc\u001b[0m in \u001b[0;36m__init__\u001b[0;34m(self, args, bufsize, executable, stdin, stdout, stderr, preexec_fn, close_fds, shell, cwd, env, universal_newlines, startupinfo, creationflags)\u001b[0m\n\u001b[1;32m    708\u001b[0m                                 \u001b[0mp2cread\u001b[0m\u001b[0;34m,\u001b[0m \u001b[0mp2cwrite\u001b[0m\u001b[0;34m,\u001b[0m\u001b[0;34m\u001b[0m\u001b[0m\n\u001b[1;32m    709\u001b[0m                                 \u001b[0mc2pread\u001b[0m\u001b[0;34m,\u001b[0m \u001b[0mc2pwrite\u001b[0m\u001b[0;34m,\u001b[0m\u001b[0;34m\u001b[0m\u001b[0m\n\u001b[0;32m--> 710\u001b[0;31m                                 errread, errwrite)\n\u001b[0m\u001b[1;32m    711\u001b[0m         \u001b[0;32mexcept\u001b[0m \u001b[0mException\u001b[0m\u001b[0;34m:\u001b[0m\u001b[0;34m\u001b[0m\u001b[0m\n\u001b[1;32m    712\u001b[0m             \u001b[0;31m# Preserve original exception in case os.close raises.\u001b[0m\u001b[0;34m\u001b[0m\u001b[0;34m\u001b[0m\u001b[0m\n",
      "\u001b[0;32m/Users/tomoki/sources/sage-7.0/local/lib/python/subprocess.pyc\u001b[0m in \u001b[0;36m_execute_child\u001b[0;34m(self, args, executable, preexec_fn, close_fds, cwd, env, universal_newlines, startupinfo, creationflags, shell, to_close, p2cread, p2cwrite, c2pread, c2pwrite, errread, errwrite)\u001b[0m\n\u001b[1;32m   1333\u001b[0m                         \u001b[0;32mraise\u001b[0m\u001b[0;34m\u001b[0m\u001b[0m\n\u001b[1;32m   1334\u001b[0m                 \u001b[0mchild_exception\u001b[0m \u001b[0;34m=\u001b[0m \u001b[0mpickle\u001b[0m\u001b[0;34m.\u001b[0m\u001b[0mloads\u001b[0m\u001b[0;34m(\u001b[0m\u001b[0mdata\u001b[0m\u001b[0;34m)\u001b[0m\u001b[0;34m\u001b[0m\u001b[0m\n\u001b[0;32m-> 1335\u001b[0;31m                 \u001b[0;32mraise\u001b[0m \u001b[0mchild_exception\u001b[0m\u001b[0;34m\u001b[0m\u001b[0m\n\u001b[0m\u001b[1;32m   1336\u001b[0m \u001b[0;34m\u001b[0m\u001b[0m\n\u001b[1;32m   1337\u001b[0m \u001b[0;34m\u001b[0m\u001b[0m\n",
      "\u001b[0;31mOSError\u001b[0m: [Errno 2] No such file or directory"
     ]
    }
   ],
   "source": [
    "Popen([\"sdpb\",\"-s\",\"test.xml\",\"--findPrimalFeasible\",\\\n",
    "       \"--findDualFeasible\",\"--noFinalCheckpoint\"],\\\n",
    "                 stderr=PIPE,stdout=PIPE).communicate()"
   ]
  },
  {
   "cell_type": "code",
   "execution_count": 11,
   "metadata": {
    "collapsed": false
   },
   "outputs": [
    {
     "data": {
      "text/plain": [
       "('total 108024\\n-rw-r--r--   1 tomoki  staff       183  2 13 23:15 partial_fraction.h\\n-rw-r--r--   1 tomoki  staff      2017  2 13 23:15 partial_fraction.c\\n-rw-r--r--   1 tomoki  staff       326  2 13 23:15 integral_decomp.h\\n-rw-r--r--   1 tomoki  staff      6244  2 13 23:15 integral_decomp.c\\n-rw-r--r--   1 tomoki  staff       221  2 13 23:15 chol_and_inverse.h\\n-rw-r--r--   1 tomoki  staff      2745  2 13 23:15 chol_and_inverse.c\\n-rw-r--r--   1 tomoki  staff      1081  2 13 23:37 LICENSE\\n-rw-r--r--   1 tomoki  staff      2385  2 16 23:37 context_object.pxd\\n-rw-r--r--   1 tomoki  staff       446  2 17 20:42 context_variables.h\\n-rw-r--r--   1 tomoki  staff      2552  2 17 21:58 context_variables.c\\n-rw-r--r--   1 tomoki  staff   7088681  2 17 22:34 test.xml\\n-rw-r--r--   1 tomoki  staff  48063050  2 18 15:40 3dsc.xml\\n-rw-r--r--   1 tomoki  staff     35651  2 19 09:20 Untitled.ipynb\\n-rw-r--r--   1 tomoki  staff        67  2 19 09:28 __init__.py\\n-rw-r--r--   1 tomoki  staff       123  2 19 09:29 __init__.pyc\\n-rw-r--r--   1 tomoki  staff      2057  2 21 19:28 README.md\\n-rw-r--r--   1 tomoki  staff     36043  2 21 20:02 context_object.pyx\\n-rw-r--r--   1 tomoki  staff      5002  2 22 00:38 XY.ipynb\\ndrwxr-xr-x  12 tomoki  staff       408  2 22 18:59 scalar\\n-rw-r--r--   1 tomoki  staff      8561  2 23 12:07 3dIsing.ipynb\\n',\n",
       " '')"
      ]
     },
     "execution_count": 11,
     "metadata": {},
     "output_type": "execute_result"
    }
   ],
   "source": [
    "Popen([\"ls\",\"-ltr\"],\\\n",
    "                 stderr=PIPE,stdout=PIPE).communicate()"
   ]
  },
  {
   "cell_type": "code",
   "execution_count": null,
   "metadata": {
    "collapsed": true
   },
   "outputs": [],
   "source": []
  }
 ],
 "metadata": {
  "kernelspec": {
   "display_name": "SageMath 7.0",
   "language": "",
   "name": "sagemath"
  },
  "language_info": {
   "codemirror_mode": {
    "name": "ipython",
    "version": 2
   },
   "file_extension": ".py",
   "mimetype": "text/x-python",
   "name": "python",
   "nbconvert_exporter": "python",
   "pygments_lexer": "ipython2",
   "version": "2.7.10"
  }
 },
 "nbformat": 4,
 "nbformat_minor": 0
}
